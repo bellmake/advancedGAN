{
 "cells": [
  {
   "cell_type": "code",
   "execution_count": 1,
   "metadata": {},
   "outputs": [
    {
     "name": "stderr",
     "output_type": "stream",
     "text": [
      "/home/joseph/miniconda3/envs/multimodal/lib/python3.11/site-packages/torchvision/io/image.py:13: UserWarning: Failed to load image Python extension: '/home/joseph/miniconda3/envs/multimodal/lib/python3.11/site-packages/torchvision/image.so: undefined symbol: _ZN3c1017RegisterOperatorsD1Ev'If you don't plan on using image functionality from `torchvision.io`, you can ignore this warning. Otherwise, there might be something wrong with your environment. Did you have `libjpeg` or `libpng` installed before building `torchvision` from source?\n",
      "  warn(\n"
     ]
    }
   ],
   "source": [
    "import torch, torchvision, os, PIL, pdb\n",
    "from torch import nn\n",
    "from torch.utils.data import Dataset\n",
    "from torch.utils.data import DataLoader\n",
    "from torchvision import transforms\n",
    "from torchvision.utils import make_grid\n",
    "from tqdm.auto import tqdm\n",
    "import numpy as np\n",
    "from PIL import Image\n",
    "import matplotlib.pyplot as plt"
   ]
  },
  {
   "cell_type": "code",
   "execution_count": 2,
   "metadata": {},
   "outputs": [],
   "source": [
    "def show(tensor, num=25, wandb=0, name=''):\n",
    "    data = tensor.detach().cpu()\n",
    "    grid = make_grid(data[:num], nrow=5).permute(1,2,0)\n",
    "    \n",
    "    ## optional\n",
    "    if (wandb==1 and wandbact==1): # wandb : weights and biases (online tool)\n",
    "        wandb.log({name:wandb.Image(grid.numpy().clip(0,1))})\n",
    "    \n",
    "    plt.imshow(grid.clip(0,1)) # clip the values of the pixles to be inbetween 0~1\n",
    "    plt.show()\n",
    "    \n",
    "### hyperparameters and general parameters\n",
    "n_epochs = 10000\n",
    "batch_size = 128\n",
    "lr = 1e-4\n",
    "z_dim = 200\n",
    "device='cuda'\n",
    "\n",
    "cur_step = 0\n",
    "crit_cycles = 5 # 5 cycles of the critic -> 1 cycle of the generator training for advanced Wesserstein GAN\n",
    "gen_losses = []\n",
    "crit_losses = []\n",
    "show_step = 35\n",
    "save_step = 35 # will be checkpoint\n",
    "\n",
    "wandbact = 1 # to track stats through weights and biases, optional\n"
   ]
  },
  {
   "cell_type": "code",
   "execution_count": null,
   "metadata": {},
   "outputs": [],
   "source": [
    "### optional\n",
    "!pip install wandb -qqq\n",
    "import wandb\n",
    "import os\n",
    "from dotenv import load_dotenv\n",
    "load_dotenv()\n",
    "wandb_api_key = os.getenv(\"WANDB_API_KEY\")\n",
    "wandb.login(key=wandb_api_key)"
   ]
  }
 ],
 "metadata": {
  "kernelspec": {
   "display_name": "multimodal",
   "language": "python",
   "name": "python3"
  },
  "language_info": {
   "codemirror_mode": {
    "name": "ipython",
    "version": 3
   },
   "file_extension": ".py",
   "mimetype": "text/x-python",
   "name": "python",
   "nbconvert_exporter": "python",
   "pygments_lexer": "ipython3",
   "version": "3.11.9"
  }
 },
 "nbformat": 4,
 "nbformat_minor": 2
}
